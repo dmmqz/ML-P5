{
 "cells": [
  {
   "cell_type": "markdown",
   "id": "bb07cc03-6644-4aa6-9ab1-e7fac15510be",
   "metadata": {},
   "source": [
    "# P5 - Convolutioneel neuraal netwerk "
   ]
  },
  {
   "cell_type": "markdown",
   "id": "2e279172-d248-486a-b854-4c9e93f9653f",
   "metadata": {},
   "source": [
    "## Import modules"
   ]
  },
  {
   "cell_type": "code",
   "execution_count": null,
   "id": "bd1ca128-536e-4e34-80c4-fb8dd7d89187",
   "metadata": {},
   "outputs": [],
   "source": [
    "import numpy as np\n",
    "import matplotlib.pyplot as plt\n",
    "from tensorflow.keras.datasets import cifar10\n",
    "from tensorflow.keras.models import Sequential\n",
    "from tensorflow.keras.layers import Conv2D, MaxPooling2D, Flatten, Dense, Dropout\n",
    "from tensorflow.keras.utils import to_categorical"
   ]
  },
  {
   "cell_type": "markdown",
   "id": "1135a713-4a19-493f-8b10-18459d574583",
   "metadata": {},
   "source": [
    "## Load the CIFAR-10 dataset"
   ]
  },
  {
   "cell_type": "code",
   "execution_count": null,
   "id": "68d0974a-fe8d-40de-b028-f7417ca8ab94",
   "metadata": {},
   "outputs": [],
   "source": [
    "(x_train, y_train), (x_test, y_test) = cifar10.load_data()"
   ]
  },
  {
   "cell_type": "markdown",
   "id": "4202fc5e-6ac4-4450-af6c-373b959000e0",
   "metadata": {},
   "source": [
    "## Prepare data"
   ]
  },
  {
   "cell_type": "code",
   "execution_count": null,
   "id": "1afdb1c9-a710-4277-8e5d-b6b92267bc37",
   "metadata": {},
   "outputs": [],
   "source": [
    "x_train = x_train.astype(\"float32\") / 255\n",
    "x_test = x_test.astype(\"float32\") / 255\n",
    "\n",
    "y_train = to_categorical(y_train, num_classes=10)\n",
    "y_test = to_categorical(y_test, num_classes=10)"
   ]
  },
  {
   "cell_type": "markdown",
   "id": "46f7540a-8c74-418e-83c8-49e98e25f708",
   "metadata": {},
   "source": [
    "## Build Convolutional Neural Network\n",
    "### Input shape\n",
    "De `input_shape` is (32, 32, 3) omdat dit staat voor de grootte van de input(32x32 foto's) en de 3 kleurkanalen (RGB).\n",
    "### Eerste convolutionele laag\n",
    "- 32 filters: Deze laag leert 32 kenmerken hiervan.\n",
    "- 3x3 kernel size: 3x3 wordt vaak gebruikt bij foto herkenning. Het is een goede balans tussen details kunnen herkennen, maar ook niet teveel rekenkracht nodig hebben.\n",
    "- ReLU: ReLU (Rectified Linear Unit): Deze rectifier maakt alle negatieve outputs 0. Dit [omzeilt sommige problemen die kunnen opkomen en is best snel](https://en.wikipedia.org/wiki/Rectifier_(neural_networks)#Advantages).\n",
    "### Max pooling laag\n",
    "- 2x2: Dit convert 4 inputs naar 1. Dit maakt het netwerk sneller, maar met verlies van precisie.\n",
    "### Tweede en derde convolutionele laag\n",
    "- 64/128 filters: De filters worden steeds groter, omdat er op hogere niveaus meer complexe kenmerken vastgelegd willen worden.\n",
    "### Tweede en derde pooling laag\n",
    "- Er wordt steeds weer pooling toegepast om het model sneller te maken.\n",
    "### Flatten\n",
    "- Dit maakt van de outputs een 1D vector, wat makkelijker is om mee te werken.\n",
    "### Dense\n",
    "- 512 neurons: Dense maakt een neurale netwerk, met in dit geval 512 neurons. 512 wordt gekozen omdat er nog best veel informatie is, maar meer dan dat is ook niet nodig.\n",
    "### Dropout\n",
    "- Dit wordt gebruikt om 0.5 (50%) van de neurons naar 0 te zetten. Dit voorkomt overfitting, omdat als dit niet gedaan wordt het model afhankelijk kan worden van specifieke neurons.\n",
    "### Dense 2 (output laag)\n",
    "- 10 neurons: Er zijn 10 klassen in de CIFAR-10 dataset, daarom ook 10 neurons in de output laag.\n",
    "### Compilatie\n",
    "- `categorical_crossentropy`: Dit wordt vaak gebruikt voor multi-class classificatie, zoals CIFAR-10, waar de input behoort tot 1 van meerdere klasses.\n",
    "- Adam: Adam (Adaptive Moment Estimation) is een veel gebruikte optimizer die de learning rate aanpast gebaseerd op de gradients."
   ]
  },
  {
   "cell_type": "code",
   "execution_count": null,
   "id": "91ca2cab-bb67-4308-a939-6c37b11a584a",
   "metadata": {},
   "outputs": [],
   "source": [
    "model = Sequential()\n",
    "\n",
    "model.add(Conv2D(32, (3, 3), activation='relu', input_shape=(32, 32, 3)))\n",
    "model.add(MaxPooling2D(pool_size=(2, 2)))\n",
    "\n",
    "model.add(Conv2D(64, (3, 3), activation='relu'))\n",
    "model.add(MaxPooling2D(pool_size=(2, 2)))\n",
    "\n",
    "model.add(Conv2D(128, (3, 3), activation='relu'))\n",
    "model.add(MaxPooling2D(pool_size=(2, 2)))\n",
    "\n",
    "model.add(Flatten())\n",
    "model.add(Dense(512, activation='relu'))\n",
    "model.add(Dropout(0.5))\n",
    "model.add(Dense(10, activation='softmax'))\n",
    "\n",
    "model.compile(loss='categorical_crossentropy', optimizer='adam', metrics=['accuracy'])"
   ]
  },
  {
   "cell_type": "markdown",
   "id": "31a85991-7c36-4d09-94f6-63e9e7d70e43",
   "metadata": {},
   "source": [
    "## Train model\n",
    "### Epochs\n",
    "- 10: Er is gekozen voor 10 epochs omdat meer dan 10 last heeft van overfitting. Zo is bij 50 epochs de accuracy 72%, terwijl dit bij 10 epochs 73% is.\n",
    "### Batch size\n",
    "- Kleine batch size (64): Er is gekozen voor een kleine batch size omdat dit problemen zoals overfitting omzeilt. Het nadeel is dat grotere batch sizes veel stabieler gradients krijgen."
   ]
  },
  {
   "cell_type": "code",
   "execution_count": null,
   "id": "31eb958b-e8af-4d04-a742-7fdb82032fd6",
   "metadata": {},
   "outputs": [],
   "source": [
    "# accuracy 50 epochts = ~0.72, 10 epochs = ~0.73\n",
    "history = model.fit(x_train, y_train, epochs=10, batch_size=64, validation_data=(x_test, y_test))\n",
    "\n",
    "loss, accuracy = model.evaluate(x_test, y_test)\n",
    "print(f'Test Loss: {loss:.4f}, Test Accuracy: {accuracy:.4f}')"
   ]
  },
  {
   "cell_type": "markdown",
   "id": "11a75a26-c546-4627-b0cf-d8ab8e29ff99",
   "metadata": {},
   "source": [
    "## Conclusie\n",
    "### Accuracy\n",
    "Aan deze plots is te zien dat er geen overfitting is. Met bijvoorbeeld `epochs=50` is gelijk te zien dat er wel overfitting is, omdat bij de accuracy dan de blauwe en oranje curve niet dichtbij elkaar zijn. Hierbij is de blauwe curve rond de 90% en de oranje curve rond de 70%."
   ]
  },
  {
   "cell_type": "code",
   "execution_count": null,
   "id": "eaaf4bb4-cfa3-4344-98aa-b279e5e1a154",
   "metadata": {},
   "outputs": [],
   "source": [
    "plt.figure(figsize=(12, 4))\n",
    "plt.subplot(1, 2, 1)\n",
    "plt.plot(history.history['accuracy'], label='Train Accuracy')\n",
    "plt.plot(history.history['val_accuracy'], label='Validation Accuracy')\n",
    "plt.title('Model Accuracy')\n",
    "plt.xlabel('Epochs')\n",
    "plt.ylabel('Accuracy')\n",
    "plt.legend()\n",
    "\n",
    "plt.subplot(1, 2, 2)\n",
    "plt.plot(history.history['loss'], label='Train Loss')\n",
    "plt.plot(history.history['val_loss'], label='Validation Loss')\n",
    "plt.title('Model Loss')\n",
    "plt.xlabel('Epochs')\n",
    "plt.ylabel('Loss')\n",
    "plt.legend()\n",
    "\n",
    "plt.tight_layout()\n",
    "plt.show()"
   ]
  }
 ],
 "metadata": {
  "kernelspec": {
   "display_name": "Python 3 (ipykernel)",
   "language": "python",
   "name": "python3"
  },
  "language_info": {
   "codemirror_mode": {
    "name": "ipython",
    "version": 3
   },
   "file_extension": ".py",
   "mimetype": "text/x-python",
   "name": "python",
   "nbconvert_exporter": "python",
   "pygments_lexer": "ipython3",
   "version": "3.12.9"
  }
 },
 "nbformat": 4,
 "nbformat_minor": 5
}
